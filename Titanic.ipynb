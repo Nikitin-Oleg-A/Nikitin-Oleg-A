{
 "cells": [
  {
   "cell_type": "code",
   "execution_count": null,
   "metadata": {
    "_cell_guid": "b1076dfc-b9ad-4769-8c92-a6c4dae69d19",
    "_uuid": "8f2839f25d086af736a60e9eeb907d3b93b6e0e5",
    "execution": {
     "iopub.execute_input": "2022-07-23T02:17:55.132336Z",
     "iopub.status.busy": "2022-07-23T02:17:55.131874Z",
     "iopub.status.idle": "2022-07-23T02:17:55.142733Z",
     "shell.execute_reply": "2022-07-23T02:17:55.141305Z",
     "shell.execute_reply.started": "2022-07-23T02:17:55.1323Z"
    }
   },
   "outputs": [],
   "source": [
    "import numpy as np \n",
    "import pandas as pd "
   ]
  },
  {
   "cell_type": "markdown",
   "metadata": {},
   "source": [
    "# NUMPY"
   ]
  },
  {
   "cell_type": "code",
   "execution_count": null,
   "metadata": {},
   "outputs": [],
   "source": [
    "a = np.array([1, 4, 5, 8], float)\n",
    "a"
   ]
  },
  {
   "cell_type": "code",
   "execution_count": null,
   "metadata": {},
   "outputs": [],
   "source": [
    "a = np.array([[1, 2, 3], [4, 5, 6]], float)\n",
    "a"
   ]
  },
  {
   "cell_type": "code",
   "execution_count": null,
   "metadata": {},
   "outputs": [],
   "source": [
    "a[0,0]"
   ]
  },
  {
   "cell_type": "code",
   "execution_count": null,
   "metadata": {},
   "outputs": [],
   "source": [
    "a.shape"
   ]
  },
  {
   "cell_type": "code",
   "execution_count": null,
   "metadata": {},
   "outputs": [],
   "source": [
    "2 in a"
   ]
  },
  {
   "cell_type": "code",
   "execution_count": null,
   "metadata": {},
   "outputs": [],
   "source": [
    "a = np.array(range(10), float)\n",
    "a"
   ]
  },
  {
   "cell_type": "code",
   "execution_count": null,
   "metadata": {},
   "outputs": [],
   "source": [
    "a = a.reshape((5, 2))\n",
    "a"
   ]
  },
  {
   "cell_type": "code",
   "execution_count": null,
   "metadata": {},
   "outputs": [],
   "source": [
    "a.transpose()"
   ]
  },
  {
   "cell_type": "code",
   "execution_count": null,
   "metadata": {},
   "outputs": [],
   "source": [
    "a = np.array([[1, 2, 3], [4, 5, 6]], float)\n",
    "a"
   ]
  },
  {
   "cell_type": "code",
   "execution_count": null,
   "metadata": {},
   "outputs": [],
   "source": [
    "a.flatten()"
   ]
  },
  {
   "cell_type": "code",
   "execution_count": null,
   "metadata": {},
   "outputs": [],
   "source": [
    "a = np.array([1,2], float)\n",
    "b = np.array([3,4,5,6], float)\n",
    "c = np.array([7,8,9], float)\n",
    "np.concatenate((a, b, c))"
   ]
  },
  {
   "cell_type": "code",
   "execution_count": null,
   "metadata": {},
   "outputs": [],
   "source": [
    "np.zeros((3, 5))"
   ]
  },
  {
   "cell_type": "code",
   "execution_count": null,
   "metadata": {},
   "outputs": [],
   "source": [
    "np.linspace(0, 2, 9)"
   ]
  },
  {
   "cell_type": "markdown",
   "metadata": {},
   "source": [
    "# PANDAS"
   ]
  },
  {
   "cell_type": "code",
   "execution_count": null,
   "metadata": {
    "execution": {
     "iopub.execute_input": "2022-07-23T02:17:55.188986Z",
     "iopub.status.busy": "2022-07-23T02:17:55.188499Z",
     "iopub.status.idle": "2022-07-23T02:17:55.209097Z",
     "shell.execute_reply": "2022-07-23T02:17:55.208108Z",
     "shell.execute_reply.started": "2022-07-23T02:17:55.188944Z"
    }
   },
   "outputs": [],
   "source": [
    "df = pd.read_csv(\"C:/Users/Anna/Desktop/titanic.csv\")"
   ]
  },
  {
   "cell_type": "code",
   "execution_count": null,
   "metadata": {},
   "outputs": [],
   "source": [
    "df.shape"
   ]
  },
  {
   "cell_type": "code",
   "execution_count": null,
   "metadata": {
    "execution": {
     "iopub.execute_input": "2022-07-23T02:17:55.215788Z",
     "iopub.status.busy": "2022-07-23T02:17:55.215059Z",
     "iopub.status.idle": "2022-07-23T02:17:55.248025Z",
     "shell.execute_reply": "2022-07-23T02:17:55.246689Z",
     "shell.execute_reply.started": "2022-07-23T02:17:55.215752Z"
    }
   },
   "outputs": [],
   "source": [
    "df.head()"
   ]
  },
  {
   "cell_type": "code",
   "execution_count": null,
   "metadata": {
    "execution": {
     "iopub.execute_input": "2022-07-23T02:17:55.251355Z",
     "iopub.status.busy": "2022-07-23T02:17:55.250192Z",
     "iopub.status.idle": "2022-07-23T02:17:55.279477Z",
     "shell.execute_reply": "2022-07-23T02:17:55.278235Z",
     "shell.execute_reply.started": "2022-07-23T02:17:55.251307Z"
    }
   },
   "outputs": [],
   "source": [
    "df.info()"
   ]
  },
  {
   "cell_type": "code",
   "execution_count": null,
   "metadata": {
    "execution": {
     "iopub.execute_input": "2022-07-23T02:17:55.283111Z",
     "iopub.status.busy": "2022-07-23T02:17:55.281741Z",
     "iopub.status.idle": "2022-07-23T02:17:55.328332Z",
     "shell.execute_reply": "2022-07-23T02:17:55.327338Z",
     "shell.execute_reply.started": "2022-07-23T02:17:55.283049Z"
    }
   },
   "outputs": [],
   "source": [
    "df.describe()"
   ]
  },
  {
   "cell_type": "code",
   "execution_count": null,
   "metadata": {
    "execution": {
     "iopub.execute_input": "2022-07-23T02:17:55.330335Z",
     "iopub.status.busy": "2022-07-23T02:17:55.329619Z",
     "iopub.status.idle": "2022-07-23T02:17:55.338355Z",
     "shell.execute_reply": "2022-07-23T02:17:55.337018Z",
     "shell.execute_reply.started": "2022-07-23T02:17:55.330292Z"
    }
   },
   "outputs": [],
   "source": [
    "df.columns"
   ]
  },
  {
   "cell_type": "code",
   "execution_count": null,
   "metadata": {},
   "outputs": [],
   "source": [
    "ages = df[\"Age\"] \n",
    "ages.head()"
   ]
  },
  {
   "cell_type": "code",
   "execution_count": null,
   "metadata": {},
   "outputs": [],
   "source": [
    "type(ages)"
   ]
  },
  {
   "cell_type": "code",
   "execution_count": null,
   "metadata": {},
   "outputs": [],
   "source": [
    "age_sex = df[[\"Age\", \"Sex\"]]\n",
    "age_sex.head()"
   ]
  },
  {
   "cell_type": "code",
   "execution_count": null,
   "metadata": {},
   "outputs": [],
   "source": [
    "type(age_sex.head())"
   ]
  },
  {
   "cell_type": "code",
   "execution_count": null,
   "metadata": {},
   "outputs": [],
   "source": [
    "df[df['Fare'] > 500]"
   ]
  },
  {
   "cell_type": "code",
   "execution_count": null,
   "metadata": {},
   "outputs": [],
   "source": [
    "df[(df['Age'] >20)&(df['Pclass']==3)]"
   ]
  },
  {
   "cell_type": "code",
   "execution_count": null,
   "metadata": {
    "execution": {
     "iopub.execute_input": "2022-07-23T02:17:55.341246Z",
     "iopub.status.busy": "2022-07-23T02:17:55.340479Z",
     "iopub.status.idle": "2022-07-23T02:17:55.354318Z",
     "shell.execute_reply": "2022-07-23T02:17:55.353256Z",
     "shell.execute_reply.started": "2022-07-23T02:17:55.341204Z"
    }
   },
   "outputs": [],
   "source": [
    "df.isnull().sum()"
   ]
  },
  {
   "cell_type": "code",
   "execution_count": null,
   "metadata": {
    "execution": {
     "iopub.execute_input": "2022-07-23T02:17:55.356439Z",
     "iopub.status.busy": "2022-07-23T02:17:55.355784Z",
     "iopub.status.idle": "2022-07-23T02:17:55.372176Z",
     "shell.execute_reply": "2022-07-23T02:17:55.370832Z",
     "shell.execute_reply.started": "2022-07-23T02:17:55.356394Z"
    }
   },
   "outputs": [],
   "source": [
    "round(100 * df.isnull().sum()/len(df),2)"
   ]
  },
  {
   "cell_type": "code",
   "execution_count": null,
   "metadata": {
    "execution": {
     "iopub.execute_input": "2022-07-23T02:18:09.022753Z",
     "iopub.status.busy": "2022-07-23T02:18:09.022286Z",
     "iopub.status.idle": "2022-07-23T02:18:09.039738Z",
     "shell.execute_reply": "2022-07-23T02:18:09.038745Z",
     "shell.execute_reply.started": "2022-07-23T02:18:09.022705Z"
    }
   },
   "outputs": [],
   "source": [
    "df[df['Fare'] > 500]"
   ]
  },
  {
   "cell_type": "code",
   "execution_count": null,
   "metadata": {
    "execution": {
     "iopub.execute_input": "2022-07-23T02:18:09.04452Z",
     "iopub.status.busy": "2022-07-23T02:18:09.044085Z",
     "iopub.status.idle": "2022-07-23T02:18:09.053099Z",
     "shell.execute_reply": "2022-07-23T02:18:09.051939Z",
     "shell.execute_reply.started": "2022-07-23T02:18:09.044483Z"
    }
   },
   "outputs": [],
   "source": [
    "round(df['Fare'].mean(),2)"
   ]
  },
  {
   "cell_type": "code",
   "execution_count": null,
   "metadata": {
    "execution": {
     "iopub.execute_input": "2022-07-23T02:18:09.313099Z",
     "iopub.status.busy": "2022-07-23T02:18:09.312744Z",
     "iopub.status.idle": "2022-07-23T02:18:09.321497Z",
     "shell.execute_reply": "2022-07-23T02:18:09.320225Z",
     "shell.execute_reply.started": "2022-07-23T02:18:09.313069Z"
    }
   },
   "outputs": [],
   "source": [
    "df['SibSp'].unique()"
   ]
  },
  {
   "cell_type": "code",
   "execution_count": null,
   "metadata": {
    "execution": {
     "iopub.execute_input": "2022-07-23T02:18:40.198177Z",
     "iopub.status.busy": "2022-07-23T02:18:40.197717Z",
     "iopub.status.idle": "2022-07-23T02:18:40.203944Z",
     "shell.execute_reply": "2022-07-23T02:18:40.202546Z",
     "shell.execute_reply.started": "2022-07-23T02:18:40.198144Z"
    }
   },
   "outputs": [],
   "source": [
    "# Data processing"
   ]
  },
  {
   "cell_type": "code",
   "execution_count": null,
   "metadata": {},
   "outputs": [],
   "source": [
    "df.groupby(by = 'Pclass').mean()"
   ]
  },
  {
   "cell_type": "code",
   "execution_count": null,
   "metadata": {},
   "outputs": [],
   "source": [
    "df[['Fare', 'Pclass']].groupby(by = 'Pclass').mean()"
   ]
  },
  {
   "cell_type": "code",
   "execution_count": null,
   "metadata": {},
   "outputs": [],
   "source": [
    "df.groupby(by = 'Pclass').agg({'Age':max, 'Fare':np.mean})"
   ]
  },
  {
   "cell_type": "code",
   "execution_count": null,
   "metadata": {},
   "outputs": [],
   "source": [
    "df.groupby(\"Pclass\").agg({\"Fare\": [np.mean, np.sum]})"
   ]
  },
  {
   "cell_type": "code",
   "execution_count": null,
   "metadata": {},
   "outputs": [],
   "source": [
    "df['SibSp'].nunique()"
   ]
  },
  {
   "cell_type": "code",
   "execution_count": null,
   "metadata": {
    "execution": {
     "iopub.execute_input": "2022-07-23T02:26:11.700103Z",
     "iopub.status.busy": "2022-07-23T02:26:11.698837Z",
     "iopub.status.idle": "2022-07-23T02:26:11.709895Z",
     "shell.execute_reply": "2022-07-23T02:26:11.708679Z",
     "shell.execute_reply.started": "2022-07-23T02:26:11.700035Z"
    }
   },
   "outputs": [],
   "source": [
    "df.dropna(subset=['Fare'], inplace = True)"
   ]
  },
  {
   "cell_type": "code",
   "execution_count": null,
   "metadata": {},
   "outputs": [],
   "source": [
    "df.head()"
   ]
  },
  {
   "cell_type": "code",
   "execution_count": null,
   "metadata": {},
   "outputs": [],
   "source": [
    "table = pd.pivot_table(df, values='Embarked', index=['Sex', 'Age'],\n",
    "                    columns=['Survived'], aggfunc=np.sum)\n",
    "table"
   ]
  },
  {
   "cell_type": "code",
   "execution_count": null,
   "metadata": {
    "execution": {
     "iopub.execute_input": "2022-07-23T02:26:29.422418Z",
     "iopub.status.busy": "2022-07-23T02:26:29.421898Z",
     "iopub.status.idle": "2022-07-23T02:26:29.434372Z",
     "shell.execute_reply": "2022-07-23T02:26:29.433351Z",
     "shell.execute_reply.started": "2022-07-23T02:26:29.422379Z"
    }
   },
   "outputs": [],
   "source": [
    "df.drop(labels = ['Name','Ticket', 'PassengerId'], axis=1,inplace= True)"
   ]
  },
  {
   "cell_type": "code",
   "execution_count": null,
   "metadata": {
    "execution": {
     "iopub.execute_input": "2022-07-23T02:43:40.318512Z",
     "iopub.status.busy": "2022-07-23T02:43:40.318005Z",
     "iopub.status.idle": "2022-07-23T02:43:40.324971Z",
     "shell.execute_reply": "2022-07-23T02:43:40.323718Z",
     "shell.execute_reply.started": "2022-07-23T02:43:40.318476Z"
    }
   },
   "outputs": [],
   "source": [
    "df['Age'].fillna(value=30, inplace=True)"
   ]
  },
  {
   "cell_type": "code",
   "execution_count": null,
   "metadata": {
    "execution": {
     "iopub.execute_input": "2022-07-23T02:44:10.417858Z",
     "iopub.status.busy": "2022-07-23T02:44:10.417245Z",
     "iopub.status.idle": "2022-07-23T02:44:10.430269Z",
     "shell.execute_reply": "2022-07-23T02:44:10.429327Z",
     "shell.execute_reply.started": "2022-07-23T02:44:10.417808Z"
    }
   },
   "outputs": [],
   "source": [
    "df.isnull().sum()"
   ]
  },
  {
   "cell_type": "code",
   "execution_count": null,
   "metadata": {
    "execution": {
     "iopub.execute_input": "2022-07-23T02:44:19.823817Z",
     "iopub.status.busy": "2022-07-23T02:44:19.822266Z",
     "iopub.status.idle": "2022-07-23T02:44:19.834629Z",
     "shell.execute_reply": "2022-07-23T02:44:19.833674Z",
     "shell.execute_reply.started": "2022-07-23T02:44:19.823771Z"
    }
   },
   "outputs": [],
   "source": [
    "df.count()"
   ]
  },
  {
   "cell_type": "code",
   "execution_count": null,
   "metadata": {
    "execution": {
     "iopub.execute_input": "2022-07-23T02:44:54.389102Z",
     "iopub.status.busy": "2022-07-23T02:44:54.388666Z",
     "iopub.status.idle": "2022-07-23T02:44:54.404939Z",
     "shell.execute_reply": "2022-07-23T02:44:54.403595Z",
     "shell.execute_reply.started": "2022-07-23T02:44:54.389069Z"
    }
   },
   "outputs": [],
   "source": [
    "df.info()"
   ]
  },
  {
   "cell_type": "code",
   "execution_count": null,
   "metadata": {},
   "outputs": [],
   "source": []
  },
  {
   "cell_type": "code",
   "execution_count": null,
   "metadata": {},
   "outputs": [],
   "source": []
  }
 ],
 "metadata": {
  "kernelspec": {
   "display_name": "Python 3",
   "language": "python",
   "name": "python3"
  },
  "language_info": {
   "codemirror_mode": {
    "name": "ipython",
    "version": 3
   },
   "file_extension": ".py",
   "mimetype": "text/x-python",
   "name": "python",
   "nbconvert_exporter": "python",
   "pygments_lexer": "ipython3",
   "version": "3.7.3"
  }
 },
 "nbformat": 4,
 "nbformat_minor": 4
}
